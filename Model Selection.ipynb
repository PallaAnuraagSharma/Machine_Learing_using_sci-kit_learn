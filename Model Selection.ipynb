{
 "cells": [
  {
   "cell_type": "markdown",
   "metadata": {},
   "source": [
    "* Model Selection - Selecting the best hyperparameters to optimize the model\n",
    "* It is enabled by cross validation \n",
    "* 2 Model Selection techniques:\n",
    "* 1. Grid Search \n",
    "* 2. Randomized Grid Search"
   ]
  },
  {
   "cell_type": "code",
   "execution_count": 8,
   "metadata": {},
   "outputs": [],
   "source": [
    "import pandas as pd \n",
    "import numpy as np \n",
    "import matplotlib.pyplot as plt \n",
    "import seaborn as sns\n",
    "from time import time "
   ]
  },
  {
   "cell_type": "code",
   "execution_count": 2,
   "metadata": {},
   "outputs": [],
   "source": [
    "df= pd.read_csv('C:/Users/Palla Anuraag Sharma/Downloads/Datacamp/Datasets/Iris DataSet/Iris.csv')"
   ]
  },
  {
   "cell_type": "code",
   "execution_count": 3,
   "metadata": {},
   "outputs": [],
   "source": [
    "df = df.set_index('Id')"
   ]
  },
  {
   "cell_type": "code",
   "execution_count": 4,
   "metadata": {},
   "outputs": [
    {
     "data": {
      "text/html": [
       "<div>\n",
       "<style scoped>\n",
       "    .dataframe tbody tr th:only-of-type {\n",
       "        vertical-align: middle;\n",
       "    }\n",
       "\n",
       "    .dataframe tbody tr th {\n",
       "        vertical-align: top;\n",
       "    }\n",
       "\n",
       "    .dataframe thead th {\n",
       "        text-align: right;\n",
       "    }\n",
       "</style>\n",
       "<table border=\"1\" class=\"dataframe\">\n",
       "  <thead>\n",
       "    <tr style=\"text-align: right;\">\n",
       "      <th></th>\n",
       "      <th>SepalLengthCm</th>\n",
       "      <th>SepalWidthCm</th>\n",
       "      <th>PetalLengthCm</th>\n",
       "      <th>PetalWidthCm</th>\n",
       "      <th>Species</th>\n",
       "    </tr>\n",
       "    <tr>\n",
       "      <th>Id</th>\n",
       "      <th></th>\n",
       "      <th></th>\n",
       "      <th></th>\n",
       "      <th></th>\n",
       "      <th></th>\n",
       "    </tr>\n",
       "  </thead>\n",
       "  <tbody>\n",
       "    <tr>\n",
       "      <th>56</th>\n",
       "      <td>5.7</td>\n",
       "      <td>2.8</td>\n",
       "      <td>4.5</td>\n",
       "      <td>1.3</td>\n",
       "      <td>Iris-versicolor</td>\n",
       "    </tr>\n",
       "    <tr>\n",
       "      <th>98</th>\n",
       "      <td>6.2</td>\n",
       "      <td>2.9</td>\n",
       "      <td>4.3</td>\n",
       "      <td>1.3</td>\n",
       "      <td>Iris-versicolor</td>\n",
       "    </tr>\n",
       "    <tr>\n",
       "      <th>61</th>\n",
       "      <td>5.0</td>\n",
       "      <td>2.0</td>\n",
       "      <td>3.5</td>\n",
       "      <td>1.0</td>\n",
       "      <td>Iris-versicolor</td>\n",
       "    </tr>\n",
       "    <tr>\n",
       "      <th>74</th>\n",
       "      <td>6.1</td>\n",
       "      <td>2.8</td>\n",
       "      <td>4.7</td>\n",
       "      <td>1.2</td>\n",
       "      <td>Iris-versicolor</td>\n",
       "    </tr>\n",
       "    <tr>\n",
       "      <th>45</th>\n",
       "      <td>5.1</td>\n",
       "      <td>3.8</td>\n",
       "      <td>1.9</td>\n",
       "      <td>0.4</td>\n",
       "      <td>Iris-setosa</td>\n",
       "    </tr>\n",
       "  </tbody>\n",
       "</table>\n",
       "</div>"
      ],
      "text/plain": [
       "    SepalLengthCm  SepalWidthCm  PetalLengthCm  PetalWidthCm          Species\n",
       "Id                                                                           \n",
       "56            5.7           2.8            4.5           1.3  Iris-versicolor\n",
       "98            6.2           2.9            4.3           1.3  Iris-versicolor\n",
       "61            5.0           2.0            3.5           1.0  Iris-versicolor\n",
       "74            6.1           2.8            4.7           1.2  Iris-versicolor\n",
       "45            5.1           3.8            1.9           0.4      Iris-setosa"
      ]
     },
     "execution_count": 4,
     "metadata": {},
     "output_type": "execute_result"
    }
   ],
   "source": [
    "df.sample(5)"
   ]
  },
  {
   "cell_type": "code",
   "execution_count": 5,
   "metadata": {},
   "outputs": [],
   "source": [
    "x = df[['SepalLengthCm','SepalWidthCm','PetalLengthCm','PetalWidthCm']]\n",
    "from sklearn.preprocessing import LabelEncoder \n",
    "le = LabelEncoder()\n",
    "df['Species_cat'] = le.fit_transform(df.Species)\n",
    "y = df['Species_cat']"
   ]
  },
  {
   "cell_type": "code",
   "execution_count": 6,
   "metadata": {},
   "outputs": [],
   "source": [
    "from sklearn.model_selection import train_test_split\n",
    "\n",
    "x_train, x_test, y_train, y_test = train_test_split(x,y, test_size=0.3, random_state=23)"
   ]
  },
  {
   "cell_type": "code",
   "execution_count": 11,
   "metadata": {},
   "outputs": [
    {
     "name": "stdout",
     "output_type": "stream",
     "text": [
      "neighbors=1, score=94.5%\n",
      "neighbors=3, score=93.5%\n",
      "neighbors=5, score=94.5%\n",
      "neighbors=11, score=96.3%\n",
      "neighbors=17, score=95.3%\n",
      "neighbors=23, score=93.5%\n",
      "neighbors=31, score=95.3%\n",
      "neighbors=53, score=87.8%\n",
      "Compute time = 0.25 seconds.\n"
     ]
    }
   ],
   "source": [
    "from sklearn.neighbors import KNeighborsClassifier\n",
    "from sklearn.model_selection import StratifiedKFold\n",
    "from sklearn.model_selection import cross_val_score\n",
    "\n",
    "start = time()\n",
    "skf = StratifiedKFold(n_splits=10)\n",
    "\n",
    "neighbors = [1, 3, 5, 11, 17, 23, 31, 53]\n",
    "for n in neighbors:\n",
    "    knc = KNeighborsClassifier(n_neighbors=n)\n",
    "    score = cross_val_score(knc, x_train, y_train, cv=skf)\n",
    "    print(f'neighbors={n}, score={np.mean(score)*100:4.1f}%')\n",
    "# Display compute time\n",
    "print(f'Compute time = {time() - start:4.2f} seconds.')"
   ]
  },
  {
   "cell_type": "markdown",
   "metadata": {},
   "source": [
    "### USING GRID SEARCH CV"
   ]
  },
  {
   "cell_type": "code",
   "execution_count": 13,
   "metadata": {},
   "outputs": [
    {
     "name": "stdout",
     "output_type": "stream",
     "text": [
      "Compute time = 0.25 seconds.\n",
      "\n",
      "Best n_neighbors=11.0000\n",
      "Best CV Score = 0.963\n"
     ]
    }
   ],
   "source": [
    "from sklearn.model_selection import GridSearchCV\n",
    "\n",
    "# Start clock\n",
    "start = time()\n",
    "\n",
    "skf = StratifiedKFold(n_splits=10)\n",
    "\n",
    "knc = KNeighborsClassifier()\n",
    "\n",
    "# Create a dictionary of hyperparameters and values\n",
    "neighbors = [1, 3, 5, 11, 17, 23, 31, 53]\n",
    "params = {'n_neighbors':neighbors}\n",
    "\n",
    "# Create grid search cross validator\n",
    "gse = GridSearchCV(estimator=knc, param_grid=params, cv=skf)\n",
    "\n",
    "# Fit estimator\n",
    "gse.fit(x_train, y_train)\n",
    "\n",
    "# Display time and best estimator results.\n",
    "print(f'Compute time = {time() - start:4.2f} seconds.\\n')\n",
    "\n",
    "print(f'Best n_neighbors={gse.best_estimator_.get_params()[\"n_neighbors\"]:5.4f}')\n",
    "print(f'Best CV Score = {gse.best_score_:4.3f}')"
   ]
  },
  {
   "cell_type": "markdown",
   "metadata": {},
   "source": [
    "### Using Randomized Search CV"
   ]
  },
  {
   "cell_type": "code",
   "execution_count": 19,
   "metadata": {},
   "outputs": [
    {
     "name": "stdout",
     "output_type": "stream",
     "text": [
      "Compute time = 0.30 seconds for 20 parameter combinations\n"
     ]
    }
   ],
   "source": [
    "from sklearn.model_selection import RandomizedSearchCV\n",
    "\n",
    "# Start clock\n",
    "start = time()\n",
    "\n",
    "knc = KNeighborsClassifier()\n",
    "skf = StratifiedKFold(n_splits=10)\n",
    "\n",
    "neighbors = range(1, 51)\n",
    "weights = ['uniform', 'distance']\n",
    "# Create a dictionary of hyperparameters and values\n",
    "params = {'n_neighbors':neighbors, 'weights':weights}\n",
    "\n",
    "# Number of random parameter samples\n",
    "num_samples = 20\n",
    "\n",
    "# Run randomized search\n",
    "rscv = RandomizedSearchCV(knc, param_distributions=params, n_iter=num_samples, random_state=23)\n",
    "\n",
    "# Fit grid search estimator and display results\n",
    "rscv.fit(x_train, y_train)\n",
    "\n",
    "print(f'Compute time = {time() - start:4.2f} seconds', end='')\n",
    "print(f' for {num_samples} parameter combinations')"
   ]
  },
  {
   "cell_type": "code",
   "execution_count": 20,
   "metadata": {},
   "outputs": [
    {
     "name": "stdout",
     "output_type": "stream",
     "text": [
      "Best n_neighbors=39.0000\n",
      "Best weights=distance\n",
      "Best CV Score = 0.962\n"
     ]
    }
   ],
   "source": [
    "# Get best esimtator\n",
    "be = rscv.best_estimator_\n",
    "\n",
    "# Display parameter values\n",
    "print(f'Best n_neighbors={be.get_params()[\"n_neighbors\"]:5.4f}')\n",
    "print(f'Best weights={be.get_params()[\"weights\"]}')\n",
    "\n",
    "# Display best score\n",
    "print(f'Best CV Score = {rscv.best_score_:4.3f}')"
   ]
  }
 ],
 "metadata": {
  "kernelspec": {
   "display_name": "Python 3",
   "language": "python",
   "name": "python3"
  },
  "language_info": {
   "codemirror_mode": {
    "name": "ipython",
    "version": 3
   },
   "file_extension": ".py",
   "mimetype": "text/x-python",
   "name": "python",
   "nbconvert_exporter": "python",
   "pygments_lexer": "ipython3",
   "version": "3.7.6"
  }
 },
 "nbformat": 4,
 "nbformat_minor": 4
}
