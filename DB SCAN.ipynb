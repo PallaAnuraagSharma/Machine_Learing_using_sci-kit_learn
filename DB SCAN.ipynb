{
 "cells": [
  {
   "cell_type": "markdown",
   "metadata": {},
   "source": [
    "# DB SCAN \n",
    "### Density Based Spatial Clustering of Applications with Noises "
   ]
  },
  {
   "cell_type": "markdown",
   "metadata": {},
   "source": [
    "* <b> HYPERPARAMETERS </b>\n",
    "* eps         : max dist bet. 2 points to be considered as same neighbor\n",
    "* min_samples : no. of points to lie in a neighborhood to be considered core point"
   ]
  },
  {
   "cell_type": "markdown",
   "metadata": {},
   "source": [
    "* <b> POINT CATEGORIES </b>\n",
    "* Core point   : atleast min samples of points with distance eps \n",
    "* Border point : A core point, but eps to atleast one core point\n",
    "* Noise point  : Neither core nor border point"
   ]
  },
  {
   "cell_type": "code",
   "execution_count": null,
   "metadata": {},
   "outputs": [],
   "source": []
  }
 ],
 "metadata": {
  "kernelspec": {
   "display_name": "Python 3",
   "language": "python",
   "name": "python3"
  },
  "language_info": {
   "codemirror_mode": {
    "name": "ipython",
    "version": 3
   },
   "file_extension": ".py",
   "mimetype": "text/x-python",
   "name": "python",
   "nbconvert_exporter": "python",
   "pygments_lexer": "ipython3",
   "version": "3.7.6"
  }
 },
 "nbformat": 4,
 "nbformat_minor": 4
}
